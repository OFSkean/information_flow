{
 "cells": [
  {
   "cell_type": "markdown",
   "metadata": {},
   "source": [
    "This notebook analyzes the entropy of models on in-domain and out-of-domain datasets. We are interested how finetuning on a dataset causes a model's matrix-based entropy to behave, i.e. does entropy go down after finetuning?\n",
    "\n",
    "Authors: Oscar Skean"
   ]
  },
  {
   "cell_type": "code",
   "execution_count": 1,
   "metadata": {},
   "outputs": [
    {
     "name": "stderr",
     "output_type": "stream",
     "text": [
      "ERROR\n",
      "ERROR\n"
     ]
    }
   ],
   "source": [
    "%load_ext autoreload\n",
    "%autoreload 2\n",
    "\n",
    "from transformers import AutoTokenizer, AutoModelForCausalLM, GPT2LMHeadModel, GPT2Model, AutoModel\n",
    "import torch\n",
    "import torch.nn.functional as F\n",
    "import numpy as np\n",
    "from utils import get_model_path, get_dataloader, normalize, EleutherAI_sizes\n",
    "import matplotlib.pyplot as plt\n",
    "import tqdm\n",
    "import repitl.matrix_itl as itl\n",
    "from datasets import load_dataset, load_from_disk\n",
    "from transformers.utils import logging\n",
    "\n",
    "logging.set_verbosity_info()\n",
    "logger = logging.get_logger(\"transformers\")\n",
    "logger.info(\"ERROR\")\n",
    "logger.warning(\"ERROR\")"
   ]
  },
  {
   "cell_type": "code",
   "execution_count": 2,
   "metadata": {},
   "outputs": [
    {
     "data": {
      "application/vnd.jupyter.widget-view+json": {
       "model_id": "9e25fefbb72243759a5e8e093f2e72ac",
       "version_major": 2,
       "version_minor": 0
      },
      "text/plain": [
       "VBox(children=(HTML(value='<center> <img\\nsrc=https://huggingface.co/front/assets/huggingface_logo-noborder.sv…"
      ]
     },
     "metadata": {},
     "output_type": "display_data"
    }
   ],
   "source": [
    "from huggingface_hub import login\n",
    "login()"
   ]
  },
  {
   "cell_type": "markdown",
   "metadata": {},
   "source": [
    "## Check models, tokenizers, and datasets"
   ]
  },
  {
   "cell_type": "markdown",
   "metadata": {},
   "source": [
    "preload everything up front to check that all models are downloaded, each model fits on gpu, and each tokenizer is properly tested on each dataset"
   ]
  },
  {
   "cell_type": "code",
   "execution_count": 3,
   "metadata": {},
   "outputs": [],
   "source": [
    "model_names = ['Medical-Llama3', \"Llama3\"]\n",
    "dataset_names = [\"ai-medical-dataset\", \"wikitext\"]"
   ]
  },
  {
   "cell_type": "code",
   "execution_count": 4,
   "metadata": {},
   "outputs": [],
   "source": [
    "# for model in model_names:\n",
    "#     print(f\"loading {model}\")\n",
    "\n",
    "#     model_path = get_model_path(model, \"8B\")\n",
    "#     tokenizer = AutoTokenizer.from_pretrained(model_path)\n",
    "#     model = AutoModel.from_pretrained(model_path, output_hidden_states=True, device_map=\"auto\", torch_dtype=torch.float16)\n",
    "\n",
    "#     for name in dataset_names:\n",
    "#         print(f\"\\t testing {model} tokenizer on dataset {name}\")\n",
    "#         get_dataloader(tokenizer, name, split=\"train\", num_samples=1000)"
   ]
  },
  {
   "cell_type": "markdown",
   "metadata": {},
   "source": [
    "# Compute in-domain & out-of-domain information planes"
   ]
  },
  {
   "cell_type": "code",
   "execution_count": 17,
   "metadata": {},
   "outputs": [],
   "source": [
    "import math\n",
    "\n",
    "def compute_information_plane(model, dataloader, var_A, var_B='layer', alpha=1):\n",
    "    assert var_A in ['input', 'output']\n",
    "    assert var_B in ['layer', 'output']\n",
    "\n",
    "    mi_list = []\n",
    "    counter = 0\n",
    "    max_batches = 500\n",
    "    with torch.no_grad():\n",
    "        for batch in tqdm.tqdm(dataloader, total=max_batches):\n",
    "            counter += 1\n",
    "\n",
    "            batch = {k: v.to(\"cuda\") for k, v in batch.items()}\n",
    "            outputs = model(**batch)\n",
    "            N, D = outputs.hidden_states[0].shape[1:]\n",
    "\n",
    "            if var_A == 'input':\n",
    "                A = normalize(outputs.hidden_states[0].squeeze()) # not really input, but the first hidden state\n",
    "            elif var_A == 'output':\n",
    "                A = normalize(outputs.last_hidden_state.squeeze())\n",
    "\n",
    "            if var_B == 'layer':\n",
    "                B_list = [normalize(x.squeeze()) for x in outputs.hidden_states[1:]]\n",
    "            if var_B == 'output':\n",
    "                B_list = [normalize(outputs.last_hidden_state.squeeze())]\n",
    "            \n",
    "            # get the covariance matrix for variable A\n",
    "            if N > D:\n",
    "                A_cov = A.T @ A\n",
    "            else:\n",
    "                A_cov = A @ A.T\n",
    "            A_cov /= torch.trace(A_cov)\n",
    "            A_cov = torch.clamp(A_cov, min=0)\n",
    "\n",
    "            # get the covariance matrix for variable B\n",
    "            B_cov_list = []\n",
    "            for B in B_list:\n",
    "                B = B.squeeze()\n",
    "                if N > D:\n",
    "                    B_cov = B.T @ B\n",
    "                else:\n",
    "                    B_cov = B @ B.T\n",
    "                B_cov /= torch.trace(B_cov)\n",
    "                B_cov = torch.clamp(B_cov, min=0)\n",
    "                B_cov_list.append(B_cov)\n",
    "\n",
    "            # compute the mutual information between A and each B\n",
    "            mutual_informations = []\n",
    "            entropy_A = itl.matrixAlphaEntropy(A_cov, alpha=alpha)\n",
    "            for B_cov in B_cov_list:\n",
    "                entropy_B = itl.matrixAlphaEntropy(B_cov, alpha=alpha)\n",
    "                entropy_joint = itl.matrixAlphaEntropy(torch.pow(A_cov * B_cov, 0.5), alpha=alpha)\n",
    "\n",
    "                mi = (entropy_A + entropy_B - entropy_joint) / math.log(N)\n",
    "                mutual_informations.append(mi.item())\n",
    "\n",
    "            if not torch.any(torch.isnan(torch.tensor(mutual_informations))) and \\\n",
    "               not torch.any(torch.isinf(torch.tensor(mutual_informations))):\n",
    "                mi_list.append(mutual_informations)\n",
    "            if counter > max_batches:\n",
    "                break\n",
    "\n",
    "    return mi_list"
   ]
  },
  {
   "cell_type": "code",
   "execution_count": 23,
   "metadata": {},
   "outputs": [
    {
     "name": "stderr",
     "output_type": "stream",
     "text": [
      "/home/AD/ofsk222/miniconda3/envs/information_plane/lib/python3.10/site-packages/huggingface_hub/file_download.py:1132: FutureWarning: `resume_download` is deprecated and will be removed in version 1.0.0. Downloads always resume when possible. If you want to force a new download, use `force_download=True`.\n",
      "  warnings.warn(\n",
      "loading file tokenizer.json from cache at /home/AD/ofsk222/.cache/huggingface/hub/models--ruslanmv--Medical-Llama3-8B/snapshots/82cb0a9d1d30a9532253d21c2793f7163535357b/tokenizer.json\n",
      "loading file added_tokens.json from cache at None\n",
      "loading file special_tokens_map.json from cache at /home/AD/ofsk222/.cache/huggingface/hub/models--ruslanmv--Medical-Llama3-8B/snapshots/82cb0a9d1d30a9532253d21c2793f7163535357b/special_tokens_map.json\n",
      "loading file tokenizer_config.json from cache at /home/AD/ofsk222/.cache/huggingface/hub/models--ruslanmv--Medical-Llama3-8B/snapshots/82cb0a9d1d30a9532253d21c2793f7163535357b/tokenizer_config.json\n"
     ]
    },
    {
     "name": "stderr",
     "output_type": "stream",
     "text": [
      "Special tokens have been added in the vocabulary, make sure the associated word embeddings are fine-tuned or trained.\n",
      "loading configuration file config.json from cache at /home/AD/ofsk222/.cache/huggingface/hub/models--ruslanmv--Medical-Llama3-8B/snapshots/82cb0a9d1d30a9532253d21c2793f7163535357b/config.json\n",
      "Model config LlamaConfig {\n",
      "  \"_name_or_path\": \"ruslanmv/Medical-Llama3-8B\",\n",
      "  \"architectures\": [\n",
      "    \"LlamaForCausalLM\"\n",
      "  ],\n",
      "  \"attention_bias\": false,\n",
      "  \"attention_dropout\": 0.0,\n",
      "  \"bos_token_id\": 128000,\n",
      "  \"eos_token_id\": 128001,\n",
      "  \"hidden_act\": \"silu\",\n",
      "  \"hidden_size\": 4096,\n",
      "  \"initializer_range\": 0.02,\n",
      "  \"intermediate_size\": 14336,\n",
      "  \"max_position_embeddings\": 8192,\n",
      "  \"model_type\": \"llama\",\n",
      "  \"num_attention_heads\": 32,\n",
      "  \"num_hidden_layers\": 32,\n",
      "  \"num_key_value_heads\": 8,\n",
      "  \"output_hidden_states\": true,\n",
      "  \"pad_token_id\": 128255,\n",
      "  \"pretraining_tp\": 1,\n",
      "  \"rms_norm_eps\": 1e-05,\n",
      "  \"rope_scaling\": null,\n",
      "  \"rope_theta\": 500000.0,\n",
      "  \"tie_word_embeddings\": false,\n",
      "  \"torch_dtype\": \"float16\",\n",
      "  \"transformers_version\": \"4.40.2\",\n",
      "  \"unsloth_version\": \"2024.5\",\n",
      "  \"use_cache\": true,\n",
      "  \"vocab_size\": 128256\n",
      "}\n",
      "\n",
      "loading weights file model.safetensors from cache at /home/AD/ofsk222/.cache/huggingface/hub/models--ruslanmv--Medical-Llama3-8B/snapshots/82cb0a9d1d30a9532253d21c2793f7163535357b/model.safetensors.index.json\n",
      "Instantiating LlamaModel model under default dtype torch.float16.\n"
     ]
    },
    {
     "data": {
      "application/vnd.jupyter.widget-view+json": {
       "model_id": "cc0c8406475344d5987fc111fe280991",
       "version_major": 2,
       "version_minor": 0
      },
      "text/plain": [
       "Loading checkpoint shards:   0%|          | 0/4 [00:00<?, ?it/s]"
      ]
     },
     "metadata": {},
     "output_type": "display_data"
    },
    {
     "name": "stderr",
     "output_type": "stream",
     "text": [
      "Some weights of the model checkpoint at ruslanmv/Medical-Llama3-8B were not used when initializing LlamaModel: ['lm_head.weight']\n",
      "- This IS expected if you are initializing LlamaModel from the checkpoint of a model trained on another task or with another architecture (e.g. initializing a BertForSequenceClassification model from a BertForPreTraining model).\n",
      "- This IS NOT expected if you are initializing LlamaModel from the checkpoint of a model that you expect to be exactly identical (initializing a BertForSequenceClassification model from a BertForSequenceClassification model).\n",
      "All the weights of LlamaModel were initialized from the model checkpoint at ruslanmv/Medical-Llama3-8B.\n",
      "If your task is similar to the task the model of the checkpoint was trained on, you can already use LlamaModel for predictions without further training.\n"
     ]
    },
    {
     "data": {
      "application/vnd.jupyter.widget-view+json": {
       "model_id": "428f17d90bc548fe83edeffd3e67792b",
       "version_major": 2,
       "version_minor": 0
      },
      "text/plain": [
       "Resolving data files:   0%|          | 0/18 [00:00<?, ?it/s]"
      ]
     },
     "metadata": {},
     "output_type": "display_data"
    },
    {
     "data": {
      "application/vnd.jupyter.widget-view+json": {
       "model_id": "be31840211c144fdaa3a35dbe1ef4233",
       "version_major": 2,
       "version_minor": 0
      },
      "text/plain": [
       "Resolving data files:   0%|          | 0/18 [00:00<?, ?it/s]"
      ]
     },
     "metadata": {},
     "output_type": "display_data"
    },
    {
     "data": {
      "application/vnd.jupyter.widget-view+json": {
       "model_id": "0b260a230da2404a847482f5f13e55ea",
       "version_major": 2,
       "version_minor": 0
      },
      "text/plain": [
       "Loading dataset shards:   0%|          | 0/18 [00:00<?, ?it/s]"
      ]
     },
     "metadata": {},
     "output_type": "display_data"
    },
    {
     "name": "stderr",
     "output_type": "stream",
     "text": [
      "100%|██████████| 500/500 [00:40<00:00, 12.48it/s]\n",
      "100%|██████████| 500/500 [00:40<00:00, 12.41it/s]\n",
      " 50%|█████     | 250/500 [00:15<00:15, 16.31it/s]\n",
      " 50%|█████     | 250/500 [00:15<00:15, 16.38it/s]\n",
      "/home/AD/ofsk222/miniconda3/envs/information_plane/lib/python3.10/site-packages/huggingface_hub/file_download.py:1132: FutureWarning: `resume_download` is deprecated and will be removed in version 1.0.0. Downloads always resume when possible. If you want to force a new download, use `force_download=True`.\n",
      "  warnings.warn(\n",
      "loading file tokenizer.json from cache at /home/AD/ofsk222/.cache/huggingface/hub/models--meta-llama--Meta-Llama-3-8B/snapshots/62bd457b6fe961a42a631306577e622c83876cb6/tokenizer.json\n",
      "loading file added_tokens.json from cache at None\n",
      "loading file special_tokens_map.json from cache at /home/AD/ofsk222/.cache/huggingface/hub/models--meta-llama--Meta-Llama-3-8B/snapshots/62bd457b6fe961a42a631306577e622c83876cb6/special_tokens_map.json\n",
      "loading file tokenizer_config.json from cache at /home/AD/ofsk222/.cache/huggingface/hub/models--meta-llama--Meta-Llama-3-8B/snapshots/62bd457b6fe961a42a631306577e622c83876cb6/tokenizer_config.json\n",
      "Special tokens have been added in the vocabulary, make sure the associated word embeddings are fine-tuned or trained.\n",
      "loading configuration file config.json from cache at /home/AD/ofsk222/.cache/huggingface/hub/models--meta-llama--Meta-Llama-3-8B/snapshots/62bd457b6fe961a42a631306577e622c83876cb6/config.json\n",
      "Model config LlamaConfig {\n",
      "  \"_name_or_path\": \"meta-llama/Meta-Llama-3-8B\",\n",
      "  \"architectures\": [\n",
      "    \"LlamaForCausalLM\"\n",
      "  ],\n",
      "  \"attention_bias\": false,\n",
      "  \"attention_dropout\": 0.0,\n",
      "  \"bos_token_id\": 128000,\n",
      "  \"eos_token_id\": 128001,\n",
      "  \"hidden_act\": \"silu\",\n",
      "  \"hidden_size\": 4096,\n",
      "  \"initializer_range\": 0.02,\n",
      "  \"intermediate_size\": 14336,\n",
      "  \"max_position_embeddings\": 8192,\n",
      "  \"model_type\": \"llama\",\n",
      "  \"num_attention_heads\": 32,\n",
      "  \"num_hidden_layers\": 32,\n",
      "  \"num_key_value_heads\": 8,\n",
      "  \"output_hidden_states\": true,\n",
      "  \"pretraining_tp\": 1,\n",
      "  \"rms_norm_eps\": 1e-05,\n",
      "  \"rope_scaling\": null,\n",
      "  \"rope_theta\": 500000.0,\n",
      "  \"tie_word_embeddings\": false,\n",
      "  \"torch_dtype\": \"float16\",\n",
      "  \"transformers_version\": \"4.40.2\",\n",
      "  \"use_cache\": true,\n",
      "  \"vocab_size\": 128256\n",
      "}\n",
      "\n",
      "loading weights file model.safetensors from cache at /home/AD/ofsk222/.cache/huggingface/hub/models--meta-llama--Meta-Llama-3-8B/snapshots/62bd457b6fe961a42a631306577e622c83876cb6/model.safetensors.index.json\n",
      "Instantiating LlamaModel model under default dtype torch.float16.\n"
     ]
    },
    {
     "data": {
      "application/vnd.jupyter.widget-view+json": {
       "model_id": "2433b566eb36409d991f7c6ba5d40f0d",
       "version_major": 2,
       "version_minor": 0
      },
      "text/plain": [
       "Loading checkpoint shards:   0%|          | 0/4 [00:00<?, ?it/s]"
      ]
     },
     "metadata": {},
     "output_type": "display_data"
    },
    {
     "name": "stderr",
     "output_type": "stream",
     "text": [
      "Some weights of the model checkpoint at meta-llama/Meta-Llama-3-8B were not used when initializing LlamaModel: ['lm_head.weight']\n",
      "- This IS expected if you are initializing LlamaModel from the checkpoint of a model trained on another task or with another architecture (e.g. initializing a BertForSequenceClassification model from a BertForPreTraining model).\n",
      "- This IS NOT expected if you are initializing LlamaModel from the checkpoint of a model that you expect to be exactly identical (initializing a BertForSequenceClassification model from a BertForSequenceClassification model).\n",
      "All the weights of LlamaModel were initialized from the model checkpoint at meta-llama/Meta-Llama-3-8B.\n",
      "If your task is similar to the task the model of the checkpoint was trained on, you can already use LlamaModel for predictions without further training.\n"
     ]
    },
    {
     "data": {
      "application/vnd.jupyter.widget-view+json": {
       "model_id": "b763d00577b04667ab14b5380323b880",
       "version_major": 2,
       "version_minor": 0
      },
      "text/plain": [
       "Resolving data files:   0%|          | 0/18 [00:00<?, ?it/s]"
      ]
     },
     "metadata": {},
     "output_type": "display_data"
    },
    {
     "data": {
      "application/vnd.jupyter.widget-view+json": {
       "model_id": "5143bd3c2ca140d491cb3fedbd605d52",
       "version_major": 2,
       "version_minor": 0
      },
      "text/plain": [
       "Resolving data files:   0%|          | 0/18 [00:00<?, ?it/s]"
      ]
     },
     "metadata": {},
     "output_type": "display_data"
    },
    {
     "data": {
      "application/vnd.jupyter.widget-view+json": {
       "model_id": "71e96fd427df40edafe05810b778b4da",
       "version_major": 2,
       "version_minor": 0
      },
      "text/plain": [
       "Loading dataset shards:   0%|          | 0/18 [00:00<?, ?it/s]"
      ]
     },
     "metadata": {},
     "output_type": "display_data"
    },
    {
     "data": {
      "application/vnd.jupyter.widget-view+json": {
       "model_id": "f3b6572aa2844d1d893175bf9ccd1329",
       "version_major": 2,
       "version_minor": 0
      },
      "text/plain": [
       "Map:   0%|          | 0/500 [00:00<?, ? examples/s]"
      ]
     },
     "metadata": {},
     "output_type": "display_data"
    },
    {
     "data": {
      "application/vnd.jupyter.widget-view+json": {
       "model_id": "9a7e2a242b344af3a431b7a41a1a142c",
       "version_major": 2,
       "version_minor": 0
      },
      "text/plain": [
       "Filter:   0%|          | 0/500 [00:00<?, ? examples/s]"
      ]
     },
     "metadata": {},
     "output_type": "display_data"
    },
    {
     "data": {
      "application/vnd.jupyter.widget-view+json": {
       "model_id": "fe44266e59f2464e8809c0a30b9178df",
       "version_major": 2,
       "version_minor": 0
      },
      "text/plain": [
       "Map:   0%|          | 0/500 [00:00<?, ? examples/s]"
      ]
     },
     "metadata": {},
     "output_type": "display_data"
    },
    {
     "name": "stderr",
     "output_type": "stream",
     "text": [
      "100%|██████████| 500/500 [00:40<00:00, 12.36it/s]\n",
      "100%|██████████| 500/500 [00:40<00:00, 12.32it/s]\n"
     ]
    },
    {
     "data": {
      "application/vnd.jupyter.widget-view+json": {
       "model_id": "a92492f948fc48028e01ac93876298cb",
       "version_major": 2,
       "version_minor": 0
      },
      "text/plain": [
       "Map:   0%|          | 0/500 [00:00<?, ? examples/s]"
      ]
     },
     "metadata": {},
     "output_type": "display_data"
    },
    {
     "data": {
      "application/vnd.jupyter.widget-view+json": {
       "model_id": "7e64e05cc92c44b6bb9092a4d55286d3",
       "version_major": 2,
       "version_minor": 0
      },
      "text/plain": [
       "Filter:   0%|          | 0/500 [00:00<?, ? examples/s]"
      ]
     },
     "metadata": {},
     "output_type": "display_data"
    },
    {
     "data": {
      "application/vnd.jupyter.widget-view+json": {
       "model_id": "5dd3da304765447d8ce5e3831532882a",
       "version_major": 2,
       "version_minor": 0
      },
      "text/plain": [
       "Filter:   0%|          | 0/416 [00:00<?, ? examples/s]"
      ]
     },
     "metadata": {},
     "output_type": "display_data"
    },
    {
     "data": {
      "application/vnd.jupyter.widget-view+json": {
       "model_id": "fc2d7ece9ac94a6eb1d397e5383e4080",
       "version_major": 2,
       "version_minor": 0
      },
      "text/plain": [
       "Map:   0%|          | 0/254 [00:00<?, ? examples/s]"
      ]
     },
     "metadata": {},
     "output_type": "display_data"
    },
    {
     "name": "stderr",
     "output_type": "stream",
     "text": [
      " 51%|█████     | 254/500 [00:15<00:15, 16.37it/s]\n",
      " 51%|█████     | 254/500 [00:15<00:14, 16.40it/s]\n"
     ]
    }
   ],
   "source": [
    "model_dataset_mis = {}\n",
    "model_names = ['Medical-Llama3', \"Llama3\"]\n",
    "#model_names = ['Medical-Llama3']\n",
    "dataset_names = [\"ai-medical-dataset\", \"wikitext\"]\n",
    "for model_name in model_names:\n",
    "    model_path = get_model_path(model_name, \"8B\")\n",
    "    tokenizer = AutoTokenizer.from_pretrained(model_path)\n",
    "    model = AutoModel.from_pretrained(model_path, output_hidden_states=True, device_map=\"auto\", torch_dtype=torch.float16)\n",
    "    \n",
    "    model_dataset_mis[model_name] = {}\n",
    "    for dataset in dataset_names:\n",
    "\n",
    "        dataloader = get_dataloader(tokenizer, dataset, split=\"train\", num_samples=500)\n",
    "\n",
    "        model_dataset_mis[model_name][dataset] = {}\n",
    "\n",
    "        input_info_plane = torch.tensor(compute_information_plane(model, dataloader, \"input\", \"layer\", alpha=2))\n",
    "        output_info_plane = torch.tensor(compute_information_plane(model, dataloader, \"output\", \"layer\", alpha=2))\n",
    "\n",
    "        model_dataset_mis[model_name][dataset]['input'] = np.array(input_info_plane).mean(axis=0)\n",
    "        model_dataset_mis[model_name][dataset]['output'] = np.array(output_info_plane).mean(axis=0)"
   ]
  },
  {
   "cell_type": "code",
   "execution_count": 24,
   "metadata": {},
   "outputs": [
    {
     "name": "stdout",
     "output_type": "stream",
     "text": [
      "[2.8030956 2.2074828 2.2552843 2.3107512 2.3556066 2.3894987 2.4201357\n",
      " 2.4476552 2.4573925 2.4706175 2.4803975 2.493252  2.50748   2.520458\n",
      " 2.5513372 2.580026  2.6062765 2.6244202 2.641143  2.6570625 2.6721506\n",
      " 2.6709247 2.6739516 2.6745932 2.6799726 2.6851478 2.6888638 2.694034\n",
      " 2.6984775 2.697161  2.6957734 2.661064 ]\n",
      "[2.6856499 2.2863264 2.3339515 2.3911483 2.433223  2.4617906 2.487214\n",
      " 2.5098522 2.52031   2.5326962 2.5380323 2.5475714 2.5603657 2.5741775\n",
      " 2.5957692 2.6223135 2.643699  2.662097  2.6755257 2.6867871 2.696425\n",
      " 2.6986954 2.7020082 2.7039244 2.707637  2.7119513 2.7141886 2.7176952\n",
      " 2.7218199 2.723777  2.726035  2.7150168]\n"
     ]
    }
   ],
   "source": [
    "# dataloader = get_dataloader(tokenizer, dataset, split=\"train\", num_samples=1000)\n",
    "# counter = 0\n",
    "# for data, row in zip(dataloader, torch.from_numpy(model_dataset_mis[model_name][dataset_name]['input'])):\n",
    "#     if torch.any(torch.isnan(row)):\n",
    "#         print(counter, data)\n",
    "#     counter += 1\n",
    "\n",
    "print(model_dataset_mis[model_name]['ai-medical-dataset']['input'])\n",
    "print(model_dataset_mis[model_name]['ai-medical-dataset']['output'])"
   ]
  },
  {
   "cell_type": "code",
   "execution_count": 30,
   "metadata": {},
   "outputs": [
    {
     "name": "stdout",
     "output_type": "stream",
     "text": [
      "0 ai-medical-dataset Medical-Llama3\n",
      "0 ai-medical-dataset Llama3\n",
      "1 wikitext Medical-Llama3\n",
      "1 wikitext Llama3\n"
     ]
    },
    {
     "data": {
      "text/plain": [
       "<matplotlib.legend.Legend at 0x7f59abce9900>"
      ]
     },
     "execution_count": 30,
     "metadata": {},
     "output_type": "execute_result"
    },
    {
     "data": {
      "image/png": "[encoded data removed]",
      "text/plain": [
       "<Figure size 1000x1000 with 4 Axes>"
      ]
     },
     "metadata": {},
     "output_type": "display_data"
    }
   ],
   "source": [
    "fig, axes = plt.subplots(2, 2, figsize=(10, 10))\n",
    "\n",
    "for dataset_idx, dataset_name in enumerate(dataset_names):\n",
    "    for model_name in model_names:\n",
    "        print(dataset_idx, dataset_name, model_name)\n",
    "        axes[0][dataset_idx].plot(\n",
    "            model_dataset_mis[model_name][dataset_name]['input'], \n",
    "            model_dataset_mis[model_name][dataset_name]['output'], \n",
    "            label=model_name)\n",
    "        \n",
    "        axes[1][dataset_idx].scatter(\n",
    "            model_dataset_mis[model_name][dataset_name]['input'], \n",
    "            model_dataset_mis[model_name][dataset_name]['output'], \n",
    "            label=model_name)\n",
    "\n",
    "        # highlight first point\n",
    "        axes[0][dataset_idx].scatter(\n",
    "            model_dataset_mis[model_name][dataset_name]['input'][0], \n",
    "            model_dataset_mis[model_name][dataset_name]['output'][0], \n",
    "             color='red')\n",
    "        \n",
    "for ax, col in zip(axes[0], ['medical dataset', 'wikitext']):\n",
    "    ax.set_title(col)\n",
    "\n",
    "axes[0][0].set_xlabel(\"MI(X, layer)\")\n",
    "axes[0][0].set_ylabel(\"MI(Y, layer)\")\n",
    "axes[0][0].legend()\n",
    "for i in range(0, 2):\n",
    "    for j in range(0, 2):\n",
    "        axes[i][j].set_ylim(2.15, 2.85)\n",
    "        axes[i][j].set_xlim(2.1, 2.85)\n",
    "\n",
    "plt.suptitle(\"logN-normalized Information Planes\")\n",
    "plt.legend()"
   ]
  },
  {
   "cell_type": "code",
   "execution_count": null,
   "metadata": {},
   "outputs": [
    {
     "data": {
      "application/vnd.jupyter.widget-view+json": {
       "model_id": "b6b6df884ae546dc88ccc4f291ea1d1d",
       "version_major": 2,
       "version_minor": 0
      },
      "text/plain": [
       "Resolving data files:   0%|          | 0/18 [00:00<?, ?it/s]"
      ]
     },
     "metadata": {},
     "output_type": "display_data"
    },
    {
     "data": {
      "application/vnd.jupyter.widget-view+json": {
       "model_id": "d0ad1dcd99674b748b7ffc867a745af7",
       "version_major": 2,
       "version_minor": 0
      },
      "text/plain": [
       "Resolving data files:   0%|          | 0/18 [00:00<?, ?it/s]"
      ]
     },
     "metadata": {},
     "output_type": "display_data"
    },
    {
     "data": {
      "application/vnd.jupyter.widget-view+json": {
       "model_id": "dc62e37169794439863ee97efeedc41e",
       "version_major": 2,
       "version_minor": 0
      },
      "text/plain": [
       "Loading dataset shards:   0%|          | 0/18 [00:00<?, ?it/s]"
      ]
     },
     "metadata": {},
     "output_type": "display_data"
    },
    {
     "data": {
      "text/plain": [
       "20"
      ]
     },
     "execution_count": 9,
     "metadata": {},
     "output_type": "execute_result"
    }
   ],
   "source": [
    "len(get_dataloader(tokenizer, 'ai-medical-dataset', split=\"train\", num_samples=20))\n"
   ]
  }
 ],
 "metadata": {
  "kernelspec": {
   "display_name": "information_plane",
   "language": "python",
   "name": "python3"
  },
  "language_info": {
   "codemirror_mode": {
    "name": "ipython",
    "version": 3
   },
   "file_extension": ".py",
   "mimetype": "text/x-python",
   "name": "python",
   "nbconvert_exporter": "python",
   "pygments_lexer": "ipython3",
   "version": "3.10.14"
  }
 },
 "nbformat": 4,
 "nbformat_minor": 2
}
