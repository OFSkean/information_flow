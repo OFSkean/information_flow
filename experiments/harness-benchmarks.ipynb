{
 "cells": [
  {
   "cell_type": "markdown",
   "metadata": {},
   "source": [
    "1. BBH (3-shots, multichoice)\n",
    "2. GPQA (0-shot, multichoice)\n",
    "3. mmlu-pro (5-shots, multichoice)\n",
    "4. Musr (0-shot, multichoice)\n",
    "5. ifeval (0-shot, generative)\n",
    "6. Math-lvl-5 (4-shots, generative, minerva version)"
   ]
  },
  {
   "cell_type": "code",
   "execution_count": 1,
   "metadata": {},
   "outputs": [],
   "source": [
    "%load_ext autoreload\n",
    "%autoreload 2\n",
    "\n",
    "import os\n",
    "import pickle\n",
    "import numpy as np\n",
    "import torch\n",
    "from transformers import AutoTokenizer, AutoModelForCausalLM, GPT2LMHeadModel, GPT2Model, AutoModel\n",
    "from utils.misc.metric_utils import (\n",
    "    compute_per_forward_pass,\n",
    "    compute_on_concatenated_passes,\n",
    "    metric_name_to_function\n",
    ")\n",
    "from utils.misc.model_dataloader_utils import model_name_to_sizes, get_model_path, get_dataloader, get_augmentation_collated_dataloader\n",
    "\n",
    "device = \"cuda:1\"\n",
    "DISABLE_TQDM = True"
   ]
  },
  {
   "cell_type": "code",
   "execution_count": null,
   "metadata": {},
   "outputs": [],
   "source": []
  }
 ],
 "metadata": {
  "kernelspec": {
   "display_name": "information_plane",
   "language": "python",
   "name": "python3"
  },
  "language_info": {
   "codemirror_mode": {
    "name": "ipython",
    "version": 3
   },
   "file_extension": ".py",
   "mimetype": "text/x-python",
   "name": "python",
   "nbconvert_exporter": "python",
   "pygments_lexer": "ipython3",
   "version": "3.10.14"
  }
 },
 "nbformat": 4,
 "nbformat_minor": 2
}
